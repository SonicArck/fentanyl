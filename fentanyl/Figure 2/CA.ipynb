{
 "cells": [
  {
   "cell_type": "code",
   "execution_count": 1,
   "id": "328cec7e",
   "metadata": {},
   "outputs": [],
   "source": [
    "# import the pandas module\n",
    "# https://pandas.pydata.org/docs/user_guide/index.html\n",
    "\n",
    "import pandas as pd\n",
    "\n",
    "# numpy is a standard module for simple numerical calculations\n",
    "import numpy as np\n",
    "import scipy.stats\n",
    "import matplotlib.pyplot as plt\n",
    "import io"
   ]
  },
  {
   "cell_type": "code",
   "execution_count": 2,
   "id": "e6c0cce3",
   "metadata": {},
   "outputs": [],
   "source": [
    "df1 = pd.read_csv(\"CA_13-17.txt\",delimiter=\"\\t\")\n",
    "df2 = pd.read_csv(\"CA_18-23.txt\",delimiter=\"\\t\")\n",
    "\n",
    "data_frame = pd.concat([df1,df2], ignore_index = True)"
   ]
  },
  {
   "cell_type": "markdown",
   "id": "71c3b433",
   "metadata": {},
   "source": [
    "We replace \"Unreliable\" by NaN."
   ]
  },
  {
   "cell_type": "code",
   "execution_count": 3,
   "id": "c3d49e42",
   "metadata": {},
   "outputs": [
    {
     "data": {
      "text/html": [
       "<div>\n",
       "<style scoped>\n",
       "    .dataframe tbody tr th:only-of-type {\n",
       "        vertical-align: middle;\n",
       "    }\n",
       "\n",
       "    .dataframe tbody tr th {\n",
       "        vertical-align: top;\n",
       "    }\n",
       "\n",
       "    .dataframe thead th {\n",
       "        text-align: right;\n",
       "    }\n",
       "</style>\n",
       "<table border=\"1\" class=\"dataframe\">\n",
       "  <thead>\n",
       "    <tr style=\"text-align: right;\">\n",
       "      <th></th>\n",
       "      <th>Notes</th>\n",
       "      <th>Year</th>\n",
       "      <th>Year Code</th>\n",
       "      <th>Deaths</th>\n",
       "      <th>Population</th>\n",
       "      <th>Crude Rate</th>\n",
       "    </tr>\n",
       "  </thead>\n",
       "  <tbody>\n",
       "    <tr>\n",
       "      <th>0</th>\n",
       "      <td>NaN</td>\n",
       "      <td>2013.0</td>\n",
       "      <td>2013.0</td>\n",
       "      <td>176.0</td>\n",
       "      <td>38332521.0</td>\n",
       "      <td>0.5</td>\n",
       "    </tr>\n",
       "    <tr>\n",
       "      <th>1</th>\n",
       "      <td>NaN</td>\n",
       "      <td>2014.0</td>\n",
       "      <td>2014.0</td>\n",
       "      <td>194.0</td>\n",
       "      <td>38802500.0</td>\n",
       "      <td>0.5</td>\n",
       "    </tr>\n",
       "    <tr>\n",
       "      <th>2</th>\n",
       "      <td>NaN</td>\n",
       "      <td>2015.0</td>\n",
       "      <td>2015.0</td>\n",
       "      <td>229.0</td>\n",
       "      <td>39144818.0</td>\n",
       "      <td>0.6</td>\n",
       "    </tr>\n",
       "    <tr>\n",
       "      <th>3</th>\n",
       "      <td>NaN</td>\n",
       "      <td>2016.0</td>\n",
       "      <td>2016.0</td>\n",
       "      <td>355.0</td>\n",
       "      <td>39250017.0</td>\n",
       "      <td>0.9</td>\n",
       "    </tr>\n",
       "    <tr>\n",
       "      <th>4</th>\n",
       "      <td>NaN</td>\n",
       "      <td>2017.0</td>\n",
       "      <td>2017.0</td>\n",
       "      <td>536.0</td>\n",
       "      <td>39536653.0</td>\n",
       "      <td>1.4</td>\n",
       "    </tr>\n",
       "    <tr>\n",
       "      <th>55</th>\n",
       "      <td>NaN</td>\n",
       "      <td>2018</td>\n",
       "      <td>2018.0</td>\n",
       "      <td>865.0</td>\n",
       "      <td>39557045.0</td>\n",
       "      <td>2.2</td>\n",
       "    </tr>\n",
       "    <tr>\n",
       "      <th>56</th>\n",
       "      <td>NaN</td>\n",
       "      <td>2019</td>\n",
       "      <td>2019.0</td>\n",
       "      <td>1675.0</td>\n",
       "      <td>39512223.0</td>\n",
       "      <td>4.2</td>\n",
       "    </tr>\n",
       "    <tr>\n",
       "      <th>57</th>\n",
       "      <td>NaN</td>\n",
       "      <td>2020</td>\n",
       "      <td>2020.0</td>\n",
       "      <td>4009.0</td>\n",
       "      <td>39368078.0</td>\n",
       "      <td>10.2</td>\n",
       "    </tr>\n",
       "    <tr>\n",
       "      <th>58</th>\n",
       "      <td>NaN</td>\n",
       "      <td>2021</td>\n",
       "      <td>2021.0</td>\n",
       "      <td>6060.0</td>\n",
       "      <td>39237836.0</td>\n",
       "      <td>15.4</td>\n",
       "    </tr>\n",
       "    <tr>\n",
       "      <th>59</th>\n",
       "      <td>NaN</td>\n",
       "      <td>2022</td>\n",
       "      <td>2022.0</td>\n",
       "      <td>6627.0</td>\n",
       "      <td>39029342.0</td>\n",
       "      <td>17.0</td>\n",
       "    </tr>\n",
       "    <tr>\n",
       "      <th>60</th>\n",
       "      <td>NaN</td>\n",
       "      <td>2023</td>\n",
       "      <td>2023.0</td>\n",
       "      <td>4934.0</td>\n",
       "      <td>39029342.0</td>\n",
       "      <td>12.6</td>\n",
       "    </tr>\n",
       "  </tbody>\n",
       "</table>\n",
       "</div>"
      ],
      "text/plain": [
       "   Notes    Year  Year Code  Deaths  Population  Crude Rate\n",
       "0    NaN  2013.0     2013.0   176.0  38332521.0         0.5\n",
       "1    NaN  2014.0     2014.0   194.0  38802500.0         0.5\n",
       "2    NaN  2015.0     2015.0   229.0  39144818.0         0.6\n",
       "3    NaN  2016.0     2016.0   355.0  39250017.0         0.9\n",
       "4    NaN  2017.0     2017.0   536.0  39536653.0         1.4\n",
       "55   NaN    2018     2018.0   865.0  39557045.0         2.2\n",
       "56   NaN    2019     2019.0  1675.0  39512223.0         4.2\n",
       "57   NaN    2020     2020.0  4009.0  39368078.0        10.2\n",
       "58   NaN    2021     2021.0  6060.0  39237836.0        15.4\n",
       "59   NaN    2022     2022.0  6627.0  39029342.0        17.0\n",
       "60   NaN    2023     2023.0  4934.0  39029342.0        12.6"
      ]
     },
     "execution_count": 3,
     "metadata": {},
     "output_type": "execute_result"
    }
   ],
   "source": [
    "data_frame = data_frame.replace(\"2022 (provisional)\", \"2022\")\n",
    "data_frame = data_frame.replace(\"2023 (provisional)\", \"2023\")\n",
    "data_frame[(data_frame[\"Year Code\"] <= 2023)]"
   ]
  },
  {
   "cell_type": "code",
   "execution_count": 4,
   "id": "212c6cf2",
   "metadata": {},
   "outputs": [],
   "source": [
    "C_All0 = data_frame[(data_frame[\"Year Code\"] <= 2023)][[\"Year\", \"Crude Rate\"]].astype(float) \n",
    "C_All1 = data_frame[(data_frame[\"Year Code\"] < 2020) &\n",
    "           (data_frame[\"Notes\"] != \"Total\")][[\"Year\", \"Crude Rate\"]].astype(float)\n",
    "C20_All1 = data_frame[(data_frame[\"Year Code\"] >= 2020) &\n",
    "           (data_frame[\"Notes\"] != \"Total\")][[\"Year\", \"Crude Rate\"]].astype(float) "
   ]
  },
  {
   "cell_type": "code",
   "execution_count": 5,
   "id": "db142f41",
   "metadata": {},
   "outputs": [],
   "source": [
    "x_all0 = C_All0[\"Year\"]\n",
    "x_all1 = C_All1[\"Year\"]\n",
    "x20_all1 = C20_All1[\"Year\"]\n",
    "y_all1 = C_All1[\"Crude Rate\"]"
   ]
  },
  {
   "cell_type": "code",
   "execution_count": 6,
   "id": "a8ae56b0",
   "metadata": {},
   "outputs": [
    {
     "data": {
      "image/png": "[encoded data removed]",
      "text/plain": [
       "<Figure size 640x480 with 1 Axes>"
      ]
     },
     "metadata": {},
     "output_type": "display_data"
    }
   ],
   "source": [
    "coeff1 = np.polyfit(x_all1, y_all1, 2)\n",
    "yfit1 = np.polyval(coeff1,x_all1)\n",
    "res1 = np.sum((y_all1  - yfit1)**2)\n",
    "\n",
    "std1 = np.sqrt(res1/(len(y_all1)-3))\n",
    "\n",
    "plt.suptitle('California', fontsize=15)\n",
    "plt.plot(x_all0, np.polyval(coeff1,x_all0), color= 'tab:blue')\n",
    "plt.scatter(x_all1, y_all1, color='tab:blue')\n",
    "plt.scatter(range(2020,2024), C20_All1[\"Crude Rate\"], color='red')\n",
    "plt.scatter(range(2020,2024), np.polyval(coeff1, x20_all1), s=100, edgecolors='tab:blue', facecolors='none')\n",
    "plt.plot(x_all0, np.polyval(coeff1,x_all0)+3*std1, color='tab:blue', linestyle='dashed')\n",
    "plt.plot(x_all0, np.polyval(coeff1,x_all0)-3*std1, color='tab:blue', linestyle='dashed')\n",
    "\n",
    "plt.savefig('CA_OldVSNewTrend.svg')"
   ]
  },
  {
   "cell_type": "code",
   "execution_count": null,
   "id": "54b1598a",
   "metadata": {},
   "outputs": [],
   "source": []
  }
 ],
 "metadata": {
  "kernelspec": {
   "display_name": "Python 3 (ipykernel)",
   "language": "python",
   "name": "python3"
  },
  "language_info": {
   "codemirror_mode": {
    "name": "ipython",
    "version": 3
   },
   "file_extension": ".py",
   "mimetype": "text/x-python",
   "name": "python",
   "nbconvert_exporter": "python",
   "pygments_lexer": "ipython3",
   "version": "3.11.0"
  }
 },
 "nbformat": 4,
 "nbformat_minor": 5
}
